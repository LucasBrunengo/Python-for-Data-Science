{
  "cells": [
    {
      "cell_type": "markdown",
      "id": "24b98369-c7ba-450b-a8b5-e34319000695",
      "metadata": {
        "editable": true,
        "id": "24b98369-c7ba-450b-a8b5-e34319000695",
        "tags": []
      },
      "source": [
        "# Python for Data Science\n",
        "## Session 3\n",
        "### Object Oriented Programming"
      ]
    },
    {
      "cell_type": "markdown",
      "id": "3ace1343-d73d-466d-aa07-56febbb7cbf1",
      "metadata": {
        "editable": true,
        "id": "3ace1343-d73d-466d-aa07-56febbb7cbf1",
        "tags": []
      },
      "source": [
        "---"
      ]
    },
    {
      "cell_type": "markdown",
      "id": "c5ffee69-5d4d-4f1c-9ed7-083afbc931ec",
      "metadata": {
        "editable": true,
        "id": "c5ffee69-5d4d-4f1c-9ed7-083afbc931ec",
        "tags": []
      },
      "source": [
        "## Outline\n",
        "1. Classes and objects\n",
        "2. Abstraction and Inheritance\n",
        "3. Polymorphism and Encapsulation"
      ]
    },
    {
      "cell_type": "markdown",
      "id": "aba315f4-e9bf-4a66-b3d3-593037c3ca70",
      "metadata": {
        "editable": true,
        "id": "aba315f4-e9bf-4a66-b3d3-593037c3ca70",
        "tags": []
      },
      "source": [
        "---"
      ]
    },
    {
      "cell_type": "markdown",
      "id": "8ed45dcb-2cf5-4bfa-ba6e-5da25c59757c",
      "metadata": {
        "editable": true,
        "id": "8ed45dcb-2cf5-4bfa-ba6e-5da25c59757c",
        "tags": []
      },
      "source": [
        "## Object Oriented programming\n",
        "\n",
        "In Data science there are three different types of programming paradigms:\n",
        "\n",
        "1. **Object-oriented programming** organizes code using objects that represent real-world entities. It provides modularity, code reuse and abstraction, making it suitable for handling large and complex applications.\n",
        "\n",
        "2. **Functional programming** emphasizes the use of **pure functions** that can be easily composed and reused, ideal for transforming data.\n",
        "\n",
        "3. **Declarative programming** consists in specifyin what the program should accomplish, rather than how to accomplish it.\n",
        "\n"
      ]
    },
    {
      "cell_type": "markdown",
      "id": "42f9f227-0941-4967-9a4b-c282bb0e4cfc",
      "metadata": {
        "editable": true,
        "id": "42f9f227-0941-4967-9a4b-c282bb0e4cfc",
        "tags": []
      },
      "source": [
        "**Pure functions** are functions that always produce the same output for the same input and haven't got any side effects, meaning it does not modify external states or variables."
      ]
    },
    {
      "cell_type": "markdown",
      "id": "00b01ced-eda7-423f-8522-96bd3f1a4125",
      "metadata": {
        "editable": true,
        "id": "00b01ced-eda7-423f-8522-96bd3f1a4125",
        "tags": []
      },
      "source": [
        "---"
      ]
    },
    {
      "cell_type": "markdown",
      "id": "9434c993-aac1-4655-bf69-477b9dc5d2ee",
      "metadata": {
        "editable": true,
        "id": "9434c993-aac1-4655-bf69-477b9dc5d2ee",
        "tags": []
      },
      "source": [
        "## Object Oriented programming\n",
        "\n",
        "OOP main concepts are:\n",
        "\n",
        "1. **Class**: A template to create objects.\n",
        "2. **Object**: An instance of a class, representing a specific entity.\n",
        "3. **Attributes**: Properties of an object (variables within a class that define it).\n",
        "4. **Methods**: Actions that objects can perform (functions within a class)."
      ]
    },
    {
      "cell_type": "code",
      "execution_count": 1,
      "id": "1e350f15-ae19-4323-a1c6-25d80118a5f3",
      "metadata": {
        "editable": true,
        "id": "1e350f15-ae19-4323-a1c6-25d80118a5f3",
        "tags": []
      },
      "outputs": [],
      "source": [
        "class Pet:\n",
        "    pass  # Empty class as a placeholder"
      ]
    },
    {
      "cell_type": "code",
      "execution_count": 2,
      "id": "2e427c6d-a0fc-47de-a6e8-de71ae500619",
      "metadata": {
        "editable": true,
        "id": "2e427c6d-a0fc-47de-a6e8-de71ae500619",
        "tags": []
      },
      "outputs": [],
      "source": [
        "my_pet = Pet() # Instance of a class"
      ]
    },
    {
      "cell_type": "code",
      "execution_count": 3,
      "id": "1cda9d57-aedb-4e70-af5b-7193174a2430",
      "metadata": {
        "editable": true,
        "id": "1cda9d57-aedb-4e70-af5b-7193174a2430",
        "tags": []
      },
      "outputs": [],
      "source": [
        "# Note: self refers to the instance of the class and is used to access its attributes and methods\n",
        "class Pet:\n",
        "    def __init__(self, name): # constructor\n",
        "        self.name = name"
      ]
    },
    {
      "cell_type": "code",
      "execution_count": 4,
      "id": "c4f13ca9-dd0a-4b53-8f30-5a507979b1ed",
      "metadata": {
        "editable": true,
        "id": "c4f13ca9-dd0a-4b53-8f30-5a507979b1ed",
        "tags": []
      },
      "outputs": [],
      "source": [
        "class Pet:\n",
        "    def __init__(self, name): # constructor\n",
        "        self.name = name # Instance attribute\n",
        "        self.age = None # Instance attribute set to None\n",
        "\n",
        "    def set_age(self, age): # Method\n",
        "        self.age = age"
      ]
    },
    {
      "cell_type": "markdown",
      "id": "92887f1e-c2b9-4abc-9324-af4c15250c3a",
      "metadata": {
        "editable": true,
        "id": "92887f1e-c2b9-4abc-9324-af4c15250c3a",
        "tags": []
      },
      "source": [
        "---"
      ]
    },
    {
      "cell_type": "markdown",
      "id": "d6c81e01-e268-4490-b970-b9f3d7a08d30",
      "metadata": {
        "editable": true,
        "id": "d6c81e01-e268-4490-b970-b9f3d7a08d30",
        "tags": []
      },
      "source": [
        "## Object Oriented programming\n",
        "### Abstraction\n",
        "\n",
        "Abstraction consists in hiding any variables and internal parts of an object that don’t need to be shown during interaction. Making only available the essential functionalities.\n",
        "\n",
        "You may want to call a method from an object that searches for something in an internal list, and in this case, you don't need to see the algorithm behind it, you just need to call the method and get what you want."
      ]
    },
    {
      "cell_type": "markdown",
      "id": "23e1e6b4-322a-4cd5-8a82-72877cc98804",
      "metadata": {
        "editable": true,
        "id": "23e1e6b4-322a-4cd5-8a82-72877cc98804",
        "tags": []
      },
      "source": [
        "## Object Oriented programming\n",
        "### Inheritance\n",
        "\n",
        "Inheritance permits any class to inherit attributes and methods from another class. This reduces code duplication and enables the creation of specialized classes based on general ones."
      ]
    },
    {
      "cell_type": "code",
      "execution_count": 5,
      "id": "76c58110-a965-432f-8dcf-f457079fec65",
      "metadata": {
        "editable": true,
        "id": "76c58110-a965-432f-8dcf-f457079fec65",
        "tags": []
      },
      "outputs": [],
      "source": [
        "class Pet:\n",
        "    def __init__(self, age, name): # Constructor\n",
        "        self.age = age # Attribute\n",
        "        self.name = name # Attribute\n",
        "\n",
        "    def describe(self): # Method\n",
        "        print(f\"This pet's name is {self.name}.\")\n",
        "\n",
        "class Dog(Pet):\n",
        "    def __init__(self, age, name, breed): # Constructor\n",
        "        super().__init__(age, name)  # Call the parent class's __init__ method\n",
        "        self.breed = breed # New attribute for this specialized class\n",
        "\n",
        "    def describe(self):\n",
        "        super().describe()  # Call the parent class's describe method\n",
        "        print(f\"This dog is {self.age} years old and is a {self.breed}.\")"
      ]
    },
    {
      "cell_type": "code",
      "execution_count": 6,
      "id": "48301f74-ece3-49ec-9332-2c168743ebc8",
      "metadata": {
        "editable": true,
        "id": "48301f74-ece3-49ec-9332-2c168743ebc8",
        "tags": []
      },
      "outputs": [],
      "source": [
        "my_dog = Dog(3, 'Rock', 'Great Dane')"
      ]
    },
    {
      "cell_type": "code",
      "execution_count": 7,
      "id": "eae7678f-665a-4916-96d2-3926a312aea5",
      "metadata": {
        "editable": true,
        "id": "eae7678f-665a-4916-96d2-3926a312aea5",
        "outputId": "3abb92a2-d911-43f9-bf4b-bb7ecdaf371f",
        "tags": []
      },
      "outputs": [
        {
          "name": "stdout",
          "output_type": "stream",
          "text": [
            "This pet's name is Rock.\n",
            "This dog is 3 years old and is a Great Dane.\n"
          ]
        }
      ],
      "source": [
        "my_dog.describe()"
      ]
    },
    {
      "cell_type": "markdown",
      "id": "220f9368-0c1a-4ac8-9785-a33b11e5df77",
      "metadata": {
        "editable": true,
        "id": "220f9368-0c1a-4ac8-9785-a33b11e5df77",
        "tags": []
      },
      "source": [
        "---"
      ]
    },
    {
      "cell_type": "markdown",
      "id": "88ff8053-d1d0-4c08-b8e5-6c84e94c4f24",
      "metadata": {
        "editable": true,
        "id": "88ff8053-d1d0-4c08-b8e5-6c84e94c4f24",
        "tags": []
      },
      "source": [
        "## Object Oriented programming\n",
        "### Polymorphism\n",
        "\n",
        "It allows the same method name to behave differently based on the object calling it, which can be achieved through method overriding."
      ]
    },
    {
      "cell_type": "code",
      "execution_count": 8,
      "id": "db4cd9e2-0188-4511-a81b-070221d74af5",
      "metadata": {
        "editable": true,
        "id": "db4cd9e2-0188-4511-a81b-070221d74af5",
        "tags": []
      },
      "outputs": [],
      "source": [
        "class Cat(Pet):\n",
        "    def __init__(self, age, name, breed): # Constructor\n",
        "        super().__init__(age, name)  # Call the parent class's __init__ method\n",
        "        self.breed = breed # New attribute for this specialized class\n",
        "\n",
        "    def describe(self): # Method\n",
        "        print(f\"This super cat is {self.age} years old and is a {self.breed}.\")"
      ]
    },
    {
      "cell_type": "code",
      "execution_count": 9,
      "id": "ced1143b-98db-46db-8e90-fed185aad835",
      "metadata": {
        "editable": true,
        "id": "ced1143b-98db-46db-8e90-fed185aad835",
        "outputId": "3c3d99c3-5191-40d9-a25c-9d4516c6ca93",
        "tags": []
      },
      "outputs": [
        {
          "name": "stdout",
          "output_type": "stream",
          "text": [
            "This super cat is 7 years old and is a Siamese.\n"
          ]
        }
      ],
      "source": [
        "my_cat = Cat(7, 'Bella', 'Siamese')\n",
        "my_cat.describe()"
      ]
    },
    {
      "cell_type": "markdown",
      "id": "cd327548-f048-4d39-9b72-6dff6cd6963d",
      "metadata": {
        "editable": true,
        "id": "cd327548-f048-4d39-9b72-6dff6cd6963d",
        "tags": []
      },
      "source": [
        "---"
      ]
    },
    {
      "cell_type": "markdown",
      "id": "854b31bb-2b21-42fd-939a-f82f71a549f0",
      "metadata": {
        "editable": true,
        "id": "854b31bb-2b21-42fd-939a-f82f71a549f0",
        "tags": []
      },
      "source": [
        "## Object Oriented programming\n",
        "### Encapsulation\n",
        "\n",
        "It consists in restricting access to variables and methods outside the object. This way we ensure the integrity of the data within the object.\n",
        "\n",
        "In python, prefixing a variable or method name with an underscore **_** indicates that it is intended for internal use only, while a double underscore **__** modifies the variable name for better encapsulation.\n",
        "\n",
        "It is worth mentioning that this is a convention, and variables and methods are still accessible."
      ]
    },
    {
      "cell_type": "code",
      "execution_count": 10,
      "id": "33e1bdf2-8798-41f1-9ed3-957c730dc9ad",
      "metadata": {
        "editable": true,
        "id": "33e1bdf2-8798-41f1-9ed3-957c730dc9ad",
        "tags": []
      },
      "outputs": [],
      "source": [
        "class Student:\n",
        "    def __init__(self, name, age, address=None):\n",
        "        self.name = name # Public attribute\n",
        "        self._age =   age # Private attribute\n",
        "        self._address = address  # Private attribute\n",
        "\n",
        "    def get_address(self): # Method\n",
        "        return self._address\n",
        "\n",
        "    def set_address(self, address): # Method\n",
        "        address = ''.join(filter(self._remove_special_characters, address))\n",
        "        self._address = address\n",
        "\n",
        "    def _remove_special_characters(self, character): # Private method\n",
        "        if character.isalnum() or character == ' ' or character == '-':\n",
        "            return True\n",
        "        else:\n",
        "            return False\n"
      ]
    },
    {
      "cell_type": "code",
      "execution_count": 11,
      "id": "a4e46c71-63e9-474e-91a6-9d9a323636dc",
      "metadata": {
        "editable": true,
        "id": "a4e46c71-63e9-474e-91a6-9d9a323636dc",
        "outputId": "f3fdcc29-3661-46e6-e645-397a94c9874c",
        "tags": []
      },
      "outputs": [
        {
          "name": "stdout",
          "output_type": "stream",
          "text": [
            "The student named Joan has the following address: Avinguda Buenos Aires nº 31 7e-1a\n"
          ]
        }
      ],
      "source": [
        "student = Student(\"Joan\", 24)\n",
        "student.set_address(\"Avinguda Buenos Aires nº 31! 7e-1a\")\n",
        "print(f\"The student named {student.name} has the following address: {student.get_address()}\")"
      ]
    },
    {
      "cell_type": "markdown",
      "id": "f4552012-e0e9-40af-8801-69d83733d433",
      "metadata": {
        "editable": true,
        "id": "f4552012-e0e9-40af-8801-69d83733d433",
        "tags": []
      },
      "source": [
        "---"
      ]
    },
    {
      "cell_type": "markdown",
      "id": "42f8be9a-cc71-4a58-97ac-1a54219a2d72",
      "metadata": {
        "editable": true,
        "id": "42f8be9a-cc71-4a58-97ac-1a54219a2d72",
        "tags": []
      },
      "source": [
        "## Object Oriented programming\n",
        "### Hands on\n",
        "\n",
        "Let's design a course registration system, where the requirements will be:\n",
        "\n",
        "1. Create a **Course** class, where each course has a name, a description and a list of enrolled students. You'll need to implement the next methods:\n",
        "    - Add a student to the course.\n",
        "    - Remove a student from the course.\n",
        "    - Show all students in the course."
      ]
    },
    {
      "cell_type": "code",
      "execution_count": 12,
      "id": "e5430dcf-a01a-4ea1-aff8-5bad4531ab1e",
      "metadata": {
        "editable": true,
        "id": "e5430dcf-a01a-4ea1-aff8-5bad4531ab1e",
        "tags": []
      },
      "outputs": [
        {
          "name": "stdout",
          "output_type": "stream",
          "text": [
            "\u001b[1;34mCourse Name:\u001b[0m Python Programming\n",
            "\u001b[1;35mCourse Type:\u001b[0m Online\n",
            "\u001b[1;33mDescription:\u001b[0m Learn the fundamentals of Python programming.\n",
            "\n",
            "\u001b[1;32mLucas Brunengo\u001b[0m has been added to the course 'Python Programming'.\n",
            "\u001b[1;31mLucas Brunengo\u001b[0m is already enrolled in the course 'Python Programming'.\n",
            "\u001b[1;32mManuel Brunengo\u001b[0m has been added to the course 'Python Programming'.\n",
            "\n",
            "\u001b[1;4mStudents enrolled in 'Python Programming':\u001b[0m\n",
            "- Lucas Brunengo\n",
            "- Manuel Brunengo\n",
            "\n",
            "\u001b[1;31mManuel Brunengo\u001b[0m has been removed from the course 'Python Programming'.\n",
            "\n",
            "\u001b[1;4mStudents enrolled in 'Python Programming':\u001b[0m\n",
            "- Lucas Brunengo\n",
            "\n",
            "\u001b[1;34mCourse Name:\u001b[0m Intro To R\n",
            "\u001b[1;35mCourse Type:\u001b[0m Onsite\n",
            "\u001b[1;33mDescription:\u001b[0m Learn the fundamentals of R programming for data analysis and visualization.\n",
            "\n",
            "\u001b[1;4;37mNo students are enrolled in the course 'Intro To R'.\u001b[0m\n",
            "\n"
          ]
        }
      ],
      "source": [
        "class Course:\n",
        "    def __init__(self, name, course_type, description):  # Initialize the course with a name, type, and description\n",
        "        self._name = name.title()  # Name of the course, transformed to title case\n",
        "        self._course_type = course_type  # Type of the course (Online | Onsite)\n",
        "        self._description = description  # Description of the course\n",
        "        self._students = []  # Private list to store enrolled students\n",
        "\n",
        "    def show_course_info(self):  # Display the course name, type, and description\n",
        "        print(f\"\\033[1;34mCourse Name:\\033[0m {self._name}\")  # Print course name in blue\n",
        "        print(f\"\\033[1;35mCourse Type:\\033[0m {self._course_type}\")  # Print course type in magenta\n",
        "        print(f\"\\033[1;33mDescription:\\033[0m {self._description}\")  # Print course description in yellow\n",
        "\n",
        "    def add_student(self, student):  # Add a student to the course\n",
        "        student = student.title()  # Transform student name to title case\n",
        "        if student not in self._students:  # Check if the student is already enrolled\n",
        "            self._students.append(student)  # Append student to the list\n",
        "            print(f\"\\033[1;32m{student}\\033[0m has been added to the course '{self._name}'.\")  # Print success message in green\n",
        "        else:\n",
        "            print(f\"\\033[1;31m{student}\\033[0m is already enrolled in the course '{self._name}'.\")  # Print error message in red\n",
        "\n",
        "    def remove_student(self, student):  # Remove a student from the course\n",
        "        student = student.title()  # Transform student name to title case\n",
        "        if student in self._students:  # Check if the student is enrolled\n",
        "            self._students.remove(student)  # Remove student from the list\n",
        "            print(f\"\\033[1;31m{student}\\033[0m has been removed from the course '{self._name}'.\")  # Print removal message in red\n",
        "        else:\n",
        "            print(f\"\\033[1;31m{student}\\033[0m is not enrolled in the course '{self._name}'.\")  # Print error message in red\n",
        "\n",
        "    def show_students(self):  # Show all students enrolled in the course\n",
        "        if self._students:  # Check if there are any enrolled students\n",
        "            print(f\"\\033[1;4mStudents enrolled in '{self._name}':\\033[0m\")  # Print header in bold and underlined\n",
        "            for student in self._students:  # Iterate through the list of students\n",
        "                print(f\"- {student}\")  # Print each student's name\n",
        "        else:\n",
        "            print(f\"\\033[1;4;37mNo students are enrolled in the course '{self._name}'.\\033[0m\")  # Print message if no students are enrolled, in bold and bright white\n",
        "\n",
        "\n",
        "# Example usage:\n",
        "# Creating two distinct courses\n",
        "course_online = Course(\"python programming\", \"Online\", \"Learn the fundamentals of Python programming.\")\n",
        "\n",
        "# Displaying course information for the online course\n",
        "course_online.show_course_info()  # Display online course information\n",
        "\n",
        "print() # Add a line break for clarity\n",
        "\n",
        "# Adding students to the online course\n",
        "course_online.add_student(\"Lucas Brunengo\")  # Add student Lucas Brunengo\n",
        "course_online.add_student(\"Lucas Brunengo\")  # Attempt to add the same student again\n",
        "course_online.add_student(\"Manuel Brunengo\")  # Add student Manuel Brunengo\n",
        "\n",
        "print() # Add a line break for clarity\n",
        "\n",
        "course_online.show_students()  # Show students in the online course\n",
        "\n",
        "print() # Add a line break for clarity\n",
        "\n",
        "course_online.remove_student(\"Manuel Brunengo\") # Removing a student\n",
        "\n",
        "print() # Add a line break for clarity\n",
        "\n",
        "course_online.show_students()  # Show students in the online course again\n",
        "\n",
        "# Creating another course\n",
        "course_onsite = Course(\"Intro to R\", \"Onsite\", \"Learn the fundamentals of R programming for data analysis and visualization.\")\n",
        "\n",
        "print() # Add a line break for clarity\n",
        "\n",
        "course_onsite.show_course_info()  # Display onsite course information\n",
        "\n",
        "print() # Add a line break for clarity\n",
        "\n",
        "course_onsite.show_students()  # Show students in the onsite course\n",
        "\n",
        "print() # Add a line break for clarity"
      ]
    },
    {
      "cell_type": "markdown",
      "id": "16cc578c-9fe3-4478-81da-3071e3adb318",
      "metadata": {
        "editable": true,
        "id": "16cc578c-9fe3-4478-81da-3071e3adb318",
        "tags": []
      },
      "source": [
        "## Object Oriented programming\n",
        "### Hands on\n",
        "\n",
        "2. Create a **Student** class, where each student has a name, ID number, address and a list of enrolled courses with the following methods:\n",
        "    - Enroll in a course.\n",
        "    - Drop a course.\n",
        "    - Show all registered student courses."
      ]
    },
    {
      "cell_type": "code",
      "execution_count": 13,
      "id": "fe4cce31-1ddf-4847-bc8d-924dc3e0dfe1",
      "metadata": {
        "editable": true,
        "id": "fe4cce31-1ddf-4847-bc8d-924dc3e0dfe1",
        "tags": []
      },
      "outputs": [
        {
          "name": "stdout",
          "output_type": "stream",
          "text": [
            "\u001b[1;34mName:\u001b[0m Lucas Brunengo\n",
            "\u001b[1;35mStudent ID:\u001b[0m LB0210\n",
            "\u001b[1;33mAddress:\u001b[0m Catamarca 1521\n",
            "\n",
            "\u001b[1;32mEnrolled in course:\u001b[0m Python Programming\n",
            "\u001b[1;32mEnrolled in course:\u001b[0m Intro to R\n",
            "\n",
            "\u001b[1;4mRegistered courses for Lucas Brunengo:\u001b[0m\n",
            "- Python Programming\n",
            "- Intro to R\n",
            "\n",
            "\u001b[1;31mDropped from course:\u001b[0m Intro to R\n",
            "\n",
            "\u001b[1;4mRegistered courses for Lucas Brunengo:\u001b[0m\n",
            "- Python Programming\n",
            "\n",
            "\u001b[1;34mName:\u001b[0m Manuel Brunengo\n",
            "\u001b[1;35mStudent ID:\u001b[0m MB0210\n",
            "\u001b[1;31m\u001b[1mAddress: \u001b[0m\u001b[1;4m\u001b[1mNo address provided.\u001b[0m\n",
            "\n",
            "\u001b[1;32mEnrolled in course:\u001b[0m Python Programming\n",
            "\n",
            "\u001b[1;4mRegistered courses for Manuel Brunengo:\u001b[0m\n",
            "- Python Programming\n"
          ]
        }
      ],
      "source": [
        "class Student:\n",
        "    def __init__(self, name, student_id, address = None): # Initialize the student with a name, student ID, and an optional address.\n",
        "        self._name = name  # Private attribute for name\n",
        "        self._student_id = student_id  # Private attribute for student ID\n",
        "        self._address = address  # Optional address, defaults to None\n",
        "        self._courses = []  # List to store enrolled courses\n",
        "\n",
        "    def show_student_info(self): # Display the student's name, ID, and address.\n",
        "        print(f\"\\033[1;34mName:\\033[0m {self._name}\")  # Name in blue\n",
        "        print(f\"\\033[1;35mStudent ID:\\033[0m {self._student_id}\")  # ID in magenta\n",
        "        if self._address:\n",
        "            print(f\"\\033[1;33mAddress:\\033[0m {self._address}\")  # Address in yellow\n",
        "        else:\n",
        "            print(f\"\\033[1;31m\\033[1mAddress: \\033[0m\\033[1;4m\\033[1mNo address provided.\\033[0m\")  # Address not provided in red\n",
        "                \n",
        "    def enroll_in_course(self, course_name): # Enroll the student in a course.\n",
        "        if course_name not in self._courses:\n",
        "            self._courses.append(course_name)  # Add the course to the list\n",
        "            print(f\"\\033[1;32mEnrolled in course:\\033[0m {course_name}\")  # Success message in green\n",
        "        else:\n",
        "            print(f\"\\033[1;31mAlready enrolled in course:\\033[0m {course_name}\")  # Error message in red\n",
        "\n",
        "    def drop_course(self, course_name): # Drop the student from a course.\n",
        "        if course_name in self._courses:\n",
        "            self._courses.remove(course_name)  # Remove the course from the list\n",
        "            print(f\"\\033[1;31mDropped from course:\\033[0m {course_name}\")  # Success message in red\n",
        "        else:\n",
        "            print(f\"\\033[1;31mNot enrolled in course:\\033[0m {course_name}\")  # Error message in red\n",
        "\n",
        "    def show_registered_courses(self): # Display all the courses the student is enrolled in.\n",
        "        if self._courses:\n",
        "            print(f\"\\033[1;4mRegistered courses for {self._name}:\\033[0m\")  # Bold, underlined header\n",
        "            for course in self._courses:\n",
        "                print(f\"- {course}\")  # List each course\n",
        "        else:\n",
        "            print(f\"\\033[1;31mNo courses registered.\\033[0m\")  # Error message in red\n",
        "\n",
        "\n",
        "# Example usage:\n",
        "\n",
        "student1 = Student(\"Lucas Brunengo\", \"LB0210\", \"Catamarca 1521\") # Creating a student with an address\n",
        "student1.show_student_info()  # Display student info\n",
        "\n",
        "print()  # Add a line break for clarity\n",
        "\n",
        "student1.enroll_in_course(\"Python Programming\")  # Enroll in a course\n",
        "student1.enroll_in_course(\"Intro to R\")  # Enroll in another course\n",
        "\n",
        "print()  # Add a line break for clarity\n",
        "\n",
        "student1.show_registered_courses()  # Show registered courses\n",
        "\n",
        "print()  # Add a line break for clarity\n",
        "\n",
        "student1.drop_course(\"Intro to R\")  # Drop a course\n",
        "\n",
        "print()  # Add a line break for clarity\n",
        "\n",
        "student1.show_registered_courses()  # Show remaining courses\n",
        "\n",
        "print()  # Add a line break for clarity\n",
        "\n",
        "\n",
        "student2 = Student(\"Manuel Brunengo\", \"MB0210\") # Creating a student without an address\n",
        "student2.show_student_info()  # Display student info\n",
        "\n",
        "print()  # Add a line break for clarity\n",
        "\n",
        "student2.enroll_in_course(\"Python Programming\")  # Enroll in a course\n",
        "\n",
        "print()  # Add a line break for clarity\n",
        "\n",
        "student2.show_registered_courses()  # Show registered courses\n"
      ]
    },
    {
      "cell_type": "markdown",
      "id": "5c54b2fe-691f-4520-b8d6-2515ba92b808",
      "metadata": {
        "editable": true,
        "id": "5c54b2fe-691f-4520-b8d6-2515ba92b808",
        "tags": []
      },
      "source": [
        "## Object Oriented programming\n",
        "### Hands on\n",
        "\n",
        "3. Create a central class that manages courses and students, **Registration** class, where you have a list of students and a list of courses, and methods:\n",
        "    - Enroll in a course.\n",
        "    - Drop a course.\n",
        "    - Show all the enrolled courses.\n",
        "    - Show all the students."
      ]
    },
    {
      "cell_type": "code",
      "execution_count": 14,
      "id": "863f30c7-3cf8-4ac9-8599-e7df8e0d483c",
      "metadata": {
        "editable": true,
        "id": "863f30c7-3cf8-4ac9-8599-e7df8e0d483c",
        "tags": []
      },
      "outputs": [
        {
          "name": "stdout",
          "output_type": "stream",
          "text": [
            "\u001b[1;32mStudent Lucas Brunengo\u001b[0m has been added to the registration system.\n",
            "\u001b[1;32mStudent Manuel Brunengo\u001b[0m has been added to the registration system.\n",
            "\u001b[1;31mStudent Lucas Brunengo\u001b[0m is already in the system.\n",
            "\n",
            "\u001b[1;32mCourse Python Programming\u001b[0m has been added to the registration system.\n",
            "\u001b[1;32mCourse Intro To R\u001b[0m has been added to the registration system.\n",
            "\n",
            "\u001b[1;32mEnrolled in course:\u001b[0m Intro To R\n",
            "\u001b[1;32mLucas Brunengo\u001b[0m has been added to the course 'Intro To R'.\n",
            "\n",
            "\u001b[1;32mEnrolled in course:\u001b[0m Python Programming\n",
            "\u001b[1;32mManuel Brunengo\u001b[0m has been added to the course 'Python Programming'.\n",
            "\n",
            "\u001b[1;31mDropped from course:\u001b[0m Python Programming\n",
            "\u001b[1;31mManuel Brunengo\u001b[0m has been removed from the course 'Python Programming'.\n",
            "\n",
            "\u001b[1;4mStudents in the system:\u001b[0m\n",
            "- Lucas Brunengo (ID: LB0202)\n",
            "- Manuel Brunengo (ID: MB0210)\n",
            "\n",
            "\u001b[1;4mCourses in the system:\u001b[0m\n",
            "- Python Programming\n",
            "- Intro To R\n",
            "\n",
            "\u001b[1;4mCourses and their enrolled students:\u001b[0m\n",
            "\u001b[1;34mCourse Name:\u001b[0m Python Programming\n",
            "  No students enrolled.\n",
            "\u001b[1;34mCourse Name:\u001b[0m Intro To R\n",
            "  - Lucas Brunengo\n"
          ]
        }
      ],
      "source": [
        "class Registration:\n",
        "    def __init__(self):  # Initialize the registration system\n",
        "        self._students = {}  # Dictionary to store students by their ID\n",
        "        self._courses = {}  # Dictionary to store courses by their name\n",
        "\n",
        "    def add_student(self, student):  # Add a student to the system\n",
        "        if student._student_id not in self._students:  # Check if the student is already registered\n",
        "            self._students[student._student_id] = student  # Add student to the dictionary\n",
        "            print(f\"\\033[1;32mStudent {student._name}\\033[0m has been added to the registration system.\")  # Confirmation message\n",
        "        else:\n",
        "            print(f\"\\033[1;31mStudent {student._name}\\033[0m is already in the system.\")  # Error message\n",
        "\n",
        "    def add_course(self, course):  # Add a course to the system\n",
        "        if course._name not in self._courses:  # Check if the course is already added\n",
        "            self._courses[course._name] = course  # Add course to the dictionary\n",
        "            print(f\"\\033[1;32mCourse {course._name}\\033[0m has been added to the registration system.\")  # Confirmation message\n",
        "        else:\n",
        "            print(f\"\\033[1;31mCourse {course._name}\\033[0m is already in the system.\")  # Error message\n",
        "\n",
        "    def enroll_student_in_course(self, student_id, course_name):  # Enroll a student in a course\n",
        "        if student_id in self._students and course_name in self._courses:  # Check if both exist\n",
        "            student = self._students[student_id]  # Retrieve the student object\n",
        "            course = self._courses[course_name]  # Retrieve the course object\n",
        "            student.enroll_in_course(course_name)  # Enroll the student in the course\n",
        "            course.add_student(student._name)  # Add the student to the course\n",
        "        else:\n",
        "            print(\"\\033[1;31mStudent ID or course not found.\\033[0m\")  # Error message\n",
        "\n",
        "    def drop_student_from_course(self, student_id, course_name):  # Drop a student from a course\n",
        "        if student_id in self._students and course_name in self._courses:  # Check if both exist\n",
        "            student = self._students[student_id]  # Retrieve the student object\n",
        "            course = self._courses[course_name]  # Retrieve the course object\n",
        "            student.drop_course(course_name)  # Drop the course for the student\n",
        "            course.remove_student(student._name)  # Remove the student from the course\n",
        "        else:\n",
        "            print(\"\\033[1;31mStudent ID or course not found.\\033[0m\")  # Error message\n",
        "\n",
        "    def show_all_courses(self):  # Display all courses in the system\n",
        "        if self._courses:  # Check if there are any courses available\n",
        "            print(\"\\033[1;4mCourses in the system:\\033[0m\")  # Header\n",
        "            for course_name in self._courses:  # Iterate through the courses\n",
        "                print(f\"- {course_name}\")  # Print course names\n",
        "        else:\n",
        "            print(\"\\033[1;31mNo courses available.\\033[0m\")  # Error message\n",
        "\n",
        "    def show_all_students(self):  # Display all students in the system\n",
        "        if self._students:  # Check if there are any students available\n",
        "            print(\"\\033[1;4mStudents in the system:\\033[0m\")  # Header\n",
        "            for student_id, student in self._students.items():  # Iterate through students\n",
        "                print(f\"- {student._name} (ID: {student_id})\")  # Print names and IDs\n",
        "        else:\n",
        "            print(\"\\033[1;31mNo students available.\\033[0m\")  # Error message\n",
        "\n",
        "    def show_enrolled_courses(self):  # Show all courses with their enrolled students\n",
        "        if self._courses:  # Check if there are any courses\n",
        "            print(\"\\033[1;4mCourses and their enrolled students:\\033[0m\")  # Header\n",
        "            for course in self._courses.values():  # Iterate through courses\n",
        "                print(f\"\\033[1;34mCourse Name:\\033[0m {course._name}\")  # Print course name\n",
        "                if course._students:  # Check for enrolled students\n",
        "                    for student in course._students:  # Iterate through enrolled students\n",
        "                        print(f\"  - {student}\")  # Print student names\n",
        "                else:\n",
        "                    print(\"  No students enrolled.\")  # No students message\n",
        "        else:\n",
        "            print(\"\\033[1;31mNo courses available in the registration system.\\033[0m\")  # Error message\n",
        "\n",
        "# Example usage:\n",
        "\n",
        "registration = Registration()  # Create registration system\n",
        "\n",
        "# Add students\n",
        "student1 = Student(\"Lucas Brunengo\", \"LB0202\", \"Catamarca 1521\")\n",
        "student2 = Student(\"Manuel Brunengo\", \"MB0210\", \"Carrer de Balmes 12\")\n",
        "student3 = Student(\"Lucas Brunengo\", \"LB0202\", \"Catamarca 1521\")  # Attempt to add a duplicate student\n",
        "\n",
        "registration.add_student(student1)\n",
        "registration.add_student(student2)\n",
        "registration.add_student(student3)\n",
        "\n",
        "print()  # Add line break for clarity\n",
        "\n",
        "# Add courses\n",
        "course1 = Course(\"Python Programming\", \"Online\", \"Learn the fundamentals of Python programming.\")\n",
        "course2 = Course(\"Intro To R\", \"Onsite\", \"Learn the fundamentals of R programming for data analysis and visualization.\")\n",
        "\n",
        "# Add courses to the registration system\n",
        "registration.add_course(course1)\n",
        "registration.add_course(course2)\n",
        "\n",
        "print()  # Add line break for clarity\n",
        "\n",
        "# Enroll students in courses\n",
        "registration.enroll_student_in_course(\"LB0202\", \"Intro To R\")  \n",
        "\n",
        "print()  # Add line break for clarity\n",
        "registration.enroll_student_in_course(\"MB0210\", \"Python Programming\")  \n",
        "\n",
        "print()  # Add line break for clarity\n",
        "\n",
        "# Drop a student from a course\n",
        "registration.drop_student_from_course(\"MB0210\", \"Python Programming\")  \n",
        "\n",
        "print()  # Add line break for clarity\n",
        "\n",
        "# Show all students\n",
        "registration.show_all_students()\n",
        "\n",
        "print()  # Add line break for clarity\n",
        "\n",
        "# Show all courses\n",
        "registration.show_all_courses()\n",
        "\n",
        "print()  # Add line break for clarity\n",
        "\n",
        "# Show all courses with enrolled students\n",
        "registration.show_enrolled_courses()\n"
      ]
    },
    {
      "cell_type": "markdown",
      "id": "2958b01b-3472-4c95-ae1f-771edc638749",
      "metadata": {
        "editable": true,
        "id": "2958b01b-3472-4c95-ae1f-771edc638749",
        "tags": []
      },
      "source": [
        "## Object Oriented programming\n",
        "### Howework\n",
        "\n",
        "4. Let's add grades to each student's course and create method that yields the GPA given a student name or ID."
      ]
    },
    {
      "cell_type": "code",
      "execution_count": 20,
      "id": "236b81a6",
      "metadata": {},
      "outputs": [
        {
          "name": "stdout",
          "output_type": "stream",
          "text": [
            "\u001b[1;32mStudent Lucas Brunengo\u001b[0m has been added to the registration system.\n",
            "\u001b[1;32mStudent Manuel Brunengo\u001b[0m has been added to the registration system.\n",
            "\u001b[1;31mStudent Lucas Brunengo\u001b[0m is already in the system.\n",
            "\n",
            "\u001b[1;32mCourse Python Programming\u001b[0m has been added to the registration system.\n",
            "\u001b[1;32mCourse Intro To R\u001b[0m has been added to the registration system.\n",
            "\n",
            "\u001b[1;32mEnrolled in course:\u001b[0m Intro To R\n",
            "\u001b[1;32mStudent ID LB0202 has been added to Intro To R.\u001b[0m\n",
            "\u001b[1;32mEnrolled in course:\u001b[0m Python Programming\n",
            "\u001b[1;32mStudent ID MB0210 has been added to Python Programming.\u001b[0m\n",
            "\n",
            "\u001b[1;4mStudents in the system:\u001b[0m\n",
            "- Lucas Brunengo (ID: LB0202)\n",
            "- Manuel Brunengo (ID: MB0210)\n",
            "\n",
            "\u001b[1;4mCourses and their enrolled students:\u001b[0m\n",
            "\u001b[1;34mCourse Name:\u001b[0m Python Programming\n",
            "  - Student ID: MB0210\n",
            "\u001b[1;34mCourse Name:\u001b[0m Intro To R\n",
            "  - Student ID: LB0202\n",
            "\n",
            "Grade for Student ID \u001b[1;32mMB0210\u001b[0m set to \u001b[1;32m3.5\u001b[0m.\n",
            "Grade for Student ID \u001b[1;32mLB0202\u001b[0m set to \u001b[1;32m4.0\u001b[0m.\n",
            "Grade for Student ID \u001b[1;32mLB0202\u001b[0m set to \u001b[1;32m2.3\u001b[0m.\n",
            "\n",
            "\u001b[1;32mGPA for Lucas Brunengo (ID: LB0202): 3.15\u001b[0m\n",
            "\u001b[1;32mGPA for Manuel Brunengo (ID: MB0210): 3.50\u001b[0m\n"
          ]
        }
      ],
      "source": [
        "#UPDATED COURSE CLASS TO INCLUDE STUDENTS AND THEIR GRADE AS LISTS\n",
        "\n",
        "class Course:\n",
        "    def __init__(self, name, course_type, description):\n",
        "        self._name = name  # Course name\n",
        "        self._course_type = course_type  # Online or Onsite\n",
        "        self._description = description  # Course description\n",
        "        self._students = {}  # Dictionary to hold students and their grades as lists\n",
        "\n",
        "    def add_student(self, student_id):  # UPDATED YO USE STUDENT ID INSTEAD OF NAME\n",
        "        if student_id not in self._students:  # Add student if not already enrolled\n",
        "            self._students[student_id] = []  # Initialize with an empty list for grades\n",
        "            print(f\"\\033[1;32mStudent ID {student_id} has been added to {self._name}.\\033[0m\")  # Confirmation message\n",
        "\n",
        "    def remove_student(self, student_id):  # UPDATED YO USE STUDENT ID INSTEAD OF NAME\n",
        "        if student_id in self._students:  # Remove student if enrolled\n",
        "            del self._students[student_id]\n",
        "            print(f\"\\033[1;31mStudent ID {student_id} has been removed from {self._name}.\\033[0m\")  # Confirmation message\n",
        "        else:\n",
        "            print(f\"\\033[1;31mStudent ID {student_id} is not enrolled in {self._name}.\\033[0m\")  # Error message\n",
        "\n",
        "    def set_grade(self, student_id, grade): # UPDATED TO ACCEPT student_id\n",
        "        if student_id in self._students:  # Check if student is enrolled\n",
        "            self._students[student_id].append(grade)  # Append the new grade to the list\n",
        "            # ENSURE THAT THE STUDENT'S COURSE RECORDS ARE UPDATED USING THEIR ID\n",
        "            registration._students[student_id]._courses[self._name] = self._students[student_id]  # Update student's courses\n",
        "            print(f\"Grade for Student ID \\033[1;32m{student_id}\\033[0m set to \\033[1;32m{grade}\\033[0m.\")  # Confirmation message\n",
        "        else:\n",
        "            print(f\"\\033[1;31mStudent ID {student_id} is not enrolled in {self._name}.\\033[0m\")  # Error message\n",
        "\n",
        "\n",
        "\n",
        "# UPDATED STUDENT CLASS TO INCLUDE GPA CALCULATION\n",
        "\n",
        "class Student:\n",
        "    def __init__(self, name, student_id, address = None):\n",
        "        self._name = name  # Private attribute for name\n",
        "        self._student_id = student_id  # Private attribute for student ID\n",
        "        self._address = address  # Optional address, defaults to None\n",
        "        self._courses = {}  # UPDATED TO BE A DICTIONARY TO STORE COURSES AND THEIR GRADES\n",
        "\n",
        "    def show_student_info(self):\n",
        "        print(f\"\\033[1;34mName:\\033[0m {self._name}\") # Display student's name\n",
        "        print(f\"\\033[1;35mStudent ID:\\033[0m {self._student_id}\") # Display student's ID\n",
        "        if self._address:\n",
        "            print(f\"\\033[1;33mAddress:\\033[0m {self._address}\") # Display address if provided\n",
        "        else:\n",
        "            print(f\"\\033[1;31mAddress: \\033[0mNo address provided.\") # Message for missing address\n",
        "\n",
        "    def enroll_in_course(self, course_name):  # UPDATED TO STORE COURSES AND GRADES\n",
        "        if course_name not in self._courses:\n",
        "            self._courses[course_name] = []  # Initialize with an empty list for grades\n",
        "            print(f\"\\033[1;32mEnrolled in course:\\033[0m {course_name}\") # Confirmation message\n",
        "        else: \n",
        "            print(f\"\\033[1;31mAlready enrolled in course:\\033[0m {course_name}\") # Error message\n",
        "\n",
        "    def drop_course(self, course_name):\n",
        "        if course_name in self._courses:\n",
        "            del self._courses[course_name]  # Remove the course\n",
        "            print(f\"\\033[1;31mDropped from course:\\033[0m {course_name}\") # Confirmation message\n",
        "        else:\n",
        "            print(f\"\\033[1;31mNot enrolled in course:\\033[0m {course_name}\") # Error message\n",
        "\n",
        "    def show_registered_courses(self):\n",
        "        if self._courses:\n",
        "            print(f\"\\033[1;4mRegistered courses for {self._name}:\\033[0m\") # Header\n",
        "            for course, grades in self._courses.items():  # Show courses and corresponding grades\n",
        "                grades_display = ', '.join(map(str, grades)) if grades else \"Not graded\"\n",
        "                print(f\"- {course}: {grades_display}\")  # Display course and grades\n",
        "        else:\n",
        "            print(f\"\\033[1;31mNo courses registered.\\033[0m\") # Message for no registered courses\n",
        "\n",
        "    def calculate_gpa(self):  # New method to calculate GPA\n",
        "        total_grades = 0 # Initialize total grades\n",
        "        count = 0 # Initialize count of grades\n",
        "        for grades in self._courses.values(): # Iterate over all courses\n",
        "            total_grades += sum(grades)  # Sum of grades in the course\n",
        "            count += len(grades)  # Count all grades\n",
        "        return total_grades / count if count > 0 else \"#NA\"  # Return GPA\n",
        "\n",
        "\n",
        "#UPDATED REGISTRATION CLASS TO MANAGE COURSES, STUDENTS, AND GPA\n",
        "\n",
        "class Registration:\n",
        "    def __init__(self):  # Initialize the registration system\n",
        "        self._students = {}  # Dictionary to store students by their ID\n",
        "        self._courses = {}  # Dictionary to store courses by their name\n",
        "\n",
        "    def add_student(self, student):\n",
        "        if student._student_id not in self._students:  # Check if student is already registered\n",
        "            self._students[student._student_id] = student  # Add student to the dictionary\n",
        "            print(f\"\\033[1;32mStudent {student._name}\\033[0m has been added to the registration system.\") # Confirmation message\n",
        "        else:\n",
        "            print(f\"\\033[1;31mStudent {student._name}\\033[0m is already in the system.\") # Error message\n",
        "\n",
        "    def add_course(self, course):\n",
        "        if course._name not in self._courses:  # Check if the course is already added\n",
        "            self._courses[course._name] = course  # Add course to the dictionary\n",
        "            print(f\"\\033[1;32mCourse {course._name}\\033[0m has been added to the registration system.\") # Confirmation message\n",
        "        else:\n",
        "            print(f\"\\033[1;31mCourse {course._name}\\033[0m is already in the system.\") # Error message\n",
        "\n",
        "    def enroll_student_in_course(self, student_id, course_name):\n",
        "        if student_id in self._students and course_name in self._courses:\n",
        "            student = self._students[student_id]  # Retrieve the student object\n",
        "            course = self._courses[course_name]  # Retrieve the course object\n",
        "            student.enroll_in_course(course_name)  # Enroll the student in the course\n",
        "            course.add_student(student_id)  # Add the student to the course (using student_id)\n",
        "        else:\n",
        "            print(\"\\033[1;31mStudent ID or course not found.\\033[0m\") # Error message\n",
        "\n",
        "    def drop_student_from_course(self, student_id, course_name):\n",
        "        if student_id in self._students and course_name in self._courses:\n",
        "            student = self._students[student_id]  # Retrieve the student object\n",
        "            course = self._courses[course_name]  # Retrieve the course object\n",
        "            student.drop_course(course_name)  # Drop the course for the student\n",
        "            course.remove_student(student_id)  # Remove the student from the course (using student_id)\n",
        "        else:\n",
        "            print(\"\\033[1;31mStudent ID or course not found.\\033[0m\") # Error message\n",
        "\n",
        "    def show_all_courses(self):\n",
        "        if self._courses: # Check if there are any courses available\n",
        "            print(\"\\033[1;4mCourses in the system:\\033[0m\") # Header\n",
        "            for course_name in self._courses: # Iterate through the courses\n",
        "                print(f\"- {course_name}\") # Print course names\n",
        "        else:\n",
        "            print(\"\\033[1;31mNo courses available.\\033[0m\") # Error message\n",
        "\n",
        "    def show_all_students(self):\n",
        "        if self._students: # Check if there are any students available\n",
        "            print(\"\\033[1;4mStudents in the system:\\033[0m\") # Header\n",
        "            for student_id, student in self._students.items():  # Iterate through students\n",
        "                print(f\"- {student._name} (ID: {student_id})\") # Print names and IDs\n",
        "        else:\n",
        "            print(\"\\033[1;31mNo students available.\\033[0m\") # Error message\n",
        "\n",
        "    def show_courses_with_students(self):\n",
        "        if self._courses: # Check if there are any courses\n",
        "            print(\"\\033[1;4mCourses and their enrolled students:\\033[0m\") # Header\n",
        "            for course in self._courses.values(): # Iterate through courses\n",
        "                print(f\"\\033[1;34mCourse Name:\\033[0m {course._name}\")  # Print course name\n",
        "                if course._students:  # Check if any students are enrolled\n",
        "                    for student_id in course._students:  # Iterate through student IDs\n",
        "                        print(f\"  - Student ID: {student_id}\") # Print student IDs\n",
        "                else:\n",
        "                    print(\"  No students enrolled.\") # Error message\n",
        "        else:\n",
        "            print(\"No courses available in the registration system.\")\n",
        "\n",
        "    def calculate_student_gpa(self, student_id):  # New method to calculate a student's GPA\n",
        "        if student_id in self._students:\n",
        "            student = self._students[student_id]  # Retrieve the student object\n",
        "            gpa = student.calculate_gpa()  # Calculate the GPA using the student's method\n",
        "            print(f\"\\033[1;32mGPA for {student._name} (ID: {student_id}): {gpa:.2f}\\033[0m\")\n",
        "        else:\n",
        "            print(\"\\033[1;31mStudent ID not found.\\033[0m\")\n",
        "\n",
        "\n",
        "\n",
        "\n",
        "# Example usage\n",
        "registration = Registration()  # Create registration system\n",
        "\n",
        "# Add students\n",
        "student1 = Student(\"Lucas Brunengo\", \"LB0202\", \"catamarca 1521\")\n",
        "student2 = Student(\"Manuel Brunengo\", \"MB0210\", \"Carrer de Balmes 12\")\n",
        "student3 = Student(\"Lucas Brunengo\", \"LB0202\", \"Catamarca 1521\")  # Attempt to add the duplicate student\n",
        "\n",
        "registration.add_student(student1)\n",
        "registration.add_student(student2)\n",
        "registration.add_student(student3)\n",
        "\n",
        "print()  # Add a line break for clarity\n",
        "\n",
        "# Add courses\n",
        "course1 = Course(\"Python Programming\", \"Online\", \"Learn the fundamentals of Python programming.\")\n",
        "course2 = Course(\"Intro To R\", \"Onsite\", \"Learn the fundamentals of R programming for data analysis and visualization.\")\n",
        "\n",
        "# Add courses to the registration system\n",
        "registration.add_course(course1)\n",
        "registration.add_course(course2)\n",
        "\n",
        "print()  # Add a line break for clarity\n",
        "\n",
        "# Enroll students in courses\n",
        "registration.enroll_student_in_course(\"LB0202\", \"Intro To R\")\n",
        "registration.enroll_student_in_course(\"MB0210\", \"Python Programming\")\n",
        "\n",
        "print()  # Add a line break for clarity\n",
        "\n",
        "# Show all students\n",
        "registration.show_all_students()\n",
        "\n",
        "print()  # Add a line break for clarity\n",
        "\n",
        "# Show all courses with enrolled students\n",
        "registration.show_courses_with_students()\n",
        "\n",
        "print()  # Add a line break for clarity\n",
        "\n",
        "# Set grades for the courses using student IDs\n",
        "course1.set_grade(\"MB0210\", 3.5)  # Set grade for Manuel in Python Programming\n",
        "course2.set_grade(\"LB0202\", 4.0)   # Set grade for Lucas in Intro To R\n",
        "course2.set_grade(\"LB0202\", 2.3)   # Set another grade for Lucas in Intro To R\n",
        "\n",
        "print()  # Add a line break for clarity\n",
        "\n",
        "# Calculate and show GPAs\n",
        "registration.calculate_student_gpa(\"LB0202\")  # Calculate GPA for Lucas\n",
        "registration.calculate_student_gpa(\"MB0210\")  # Calculate GPA for Manuel"
      ]
    },
    {
      "cell_type": "markdown",
      "id": "76c565a9-dc30-464c-980d-d522cd5246f4",
      "metadata": {
        "editable": true,
        "id": "76c565a9-dc30-464c-980d-d522cd5246f4",
        "tags": []
      },
      "source": [
        "## That's all!"
      ]
    }
  ],
  "metadata": {
    "colab": {
      "provenance": []
    },
    "kernelspec": {
      "display_name": "Python_Env",
      "language": "python",
      "name": "python3"
    },
    "language_info": {
      "codemirror_mode": {
        "name": "ipython",
        "version": 3
      },
      "file_extension": ".py",
      "mimetype": "text/x-python",
      "name": "python",
      "nbconvert_exporter": "python",
      "pygments_lexer": "ipython3",
      "version": "3.12.4"
    }
  },
  "nbformat": 4,
  "nbformat_minor": 5
}
